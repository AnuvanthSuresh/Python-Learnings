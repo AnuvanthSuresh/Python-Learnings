{
 "cells": [
  {
   "cell_type": "markdown",
   "id": "dfafd9ab",
   "metadata": {},
   "source": [
    "### Function"
   ]
  },
  {
   "cell_type": "code",
   "execution_count": 1,
   "id": "6bb0b994",
   "metadata": {
    "scrolled": true
   },
   "outputs": [
    {
     "name": "stdout",
     "output_type": "stream",
     "text": [
      "Function Called\n"
     ]
    }
   ],
   "source": [
    "def Function():\n",
    "    print('Function Called')\n",
    "    \n",
    "    \n",
    "Function()"
   ]
  },
  {
   "cell_type": "code",
   "execution_count": 2,
   "id": "a0dd59a8",
   "metadata": {},
   "outputs": [
    {
     "name": "stdout",
     "output_type": "stream",
     "text": [
      "Function Called\n"
     ]
    }
   ],
   "source": [
    "Function()"
   ]
  },
  {
   "cell_type": "code",
   "execution_count": 4,
   "id": "f7226ba5",
   "metadata": {},
   "outputs": [
    {
     "name": "stdout",
     "output_type": "stream",
     "text": [
      "3\n"
     ]
    }
   ],
   "source": [
    "def Sum(operand1, operand2):\n",
    "    print(operand1 + operand2)\n",
    "    \n",
    "Sum(1,2)"
   ]
  },
  {
   "cell_type": "code",
   "execution_count": 5,
   "id": "07944832",
   "metadata": {},
   "outputs": [
    {
     "data": {
      "text/plain": [
       "3"
      ]
     },
     "execution_count": 5,
     "metadata": {},
     "output_type": "execute_result"
    }
   ],
   "source": [
    "def Sum(operand1, operand2):\n",
    "    return operand1 + operand2\n",
    "    \n",
    "Sum(1,2)"
   ]
  },
  {
   "cell_type": "code",
   "execution_count": 8,
   "id": "4f6e2559",
   "metadata": {},
   "outputs": [
    {
     "name": "stdout",
     "output_type": "stream",
     "text": [
      "0.5\n",
      "2.0\n"
     ]
    }
   ],
   "source": [
    "def divide(operand1, operand2):\n",
    "    return operand1 / operand2\n",
    "    \n",
    "print(divide(operand1 = 1, operand2 = 2))\n",
    "print(divide(operand2 = 1, operand1 = 2))"
   ]
  },
  {
   "cell_type": "markdown",
   "id": "88c49b12",
   "metadata": {},
   "source": [
    "### Class"
   ]
  },
  {
   "cell_type": "code",
   "execution_count": 9,
   "id": "8f06bf6a",
   "metadata": {},
   "outputs": [
    {
     "name": "stdout",
     "output_type": "stream",
     "text": [
      "15\n"
     ]
    }
   ],
   "source": [
    "class NewClass:\n",
    "    \n",
    "    x = 15\n",
    "    \n",
    "classObject = NewClass()\n",
    "print(classObject.x)"
   ]
  },
  {
   "cell_type": "code",
   "execution_count": 10,
   "id": "201020d3",
   "metadata": {},
   "outputs": [
    {
     "name": "stdout",
     "output_type": "stream",
     "text": [
      "2\n",
      "3\n"
     ]
    }
   ],
   "source": [
    "# __inti__()\n",
    "\n",
    "\n",
    "class Demo:\n",
    "    \n",
    "    def __init__(self,operand1,operand2):\n",
    "        self.operand1 = operand1\n",
    "        self.operand2 = operand2\n",
    "        \n",
    "obj = Demo(2 , 3)\n",
    "\n",
    "print(obj.operand1)\n",
    "print(obj.operand2)"
   ]
  },
  {
   "cell_type": "code",
   "execution_count": 12,
   "id": "f3f195e9",
   "metadata": {},
   "outputs": [
    {
     "name": "stdout",
     "output_type": "stream",
     "text": [
      "3\n"
     ]
    }
   ],
   "source": [
    "class Check:\n",
    "    \n",
    "    def Noinit(self, value1, value2):\n",
    "        return value1 + value2\n",
    "    \n",
    "check = Check()\n",
    "\n",
    "print(check.Noinit(1,2))"
   ]
  },
  {
   "cell_type": "markdown",
   "id": "fa80fea1",
   "metadata": {},
   "source": [
    "### Inheritance"
   ]
  },
  {
   "cell_type": "code",
   "execution_count": 24,
   "id": "7fba39b3",
   "metadata": {},
   "outputs": [
    {
     "name": "stdout",
     "output_type": "stream",
     "text": [
      "Parent Value -  parent\n",
      "child Value -  child\n"
     ]
    }
   ],
   "source": [
    "class parentClass:\n",
    "    \n",
    "    def __init__(self,value):\n",
    "        self.value = value\n",
    "    \n",
    "    def ParentMethod(self,value):\n",
    "        print('Parent Value - ',value)\n",
    "        \n",
    "class childClass(parentClass):\n",
    "    \n",
    "#     def __init__(self, value):\n",
    "#         self.value = value\n",
    "    \n",
    "    def ChildMethod(self,value):\n",
    "        print('child Value - ',value)\n",
    "        \n",
    "        \n",
    "\n",
    "parent = parentClass('parent')\n",
    "child = childClass('child')\n",
    "\n",
    "\n",
    "parent.ParentMethod('parent')\n",
    "child.ChildMethod('child')"
   ]
  }
 ],
 "metadata": {
  "kernelspec": {
   "display_name": "Python 3 (ipykernel)",
   "language": "python",
   "name": "python3"
  },
  "language_info": {
   "codemirror_mode": {
    "name": "ipython",
    "version": 3
   },
   "file_extension": ".py",
   "mimetype": "text/x-python",
   "name": "python",
   "nbconvert_exporter": "python",
   "pygments_lexer": "ipython3",
   "version": "3.9.7"
  }
 },
 "nbformat": 4,
 "nbformat_minor": 5
}
