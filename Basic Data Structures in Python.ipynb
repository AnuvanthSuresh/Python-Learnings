{
 "cells": [
  {
   "cell_type": "markdown",
   "id": "9c4e875f",
   "metadata": {},
   "source": [
    "# Dictionary Data type in Python"
   ]
  },
  {
   "cell_type": "code",
   "execution_count": 1,
   "id": "cc50c655",
   "metadata": {},
   "outputs": [],
   "source": [
    "Dictonary = {\"Key1\":\"value1\",\"Key2\":\"Value2\",\"Key3\":\"Value4\"}"
   ]
  },
  {
   "cell_type": "code",
   "execution_count": 2,
   "id": "d3756b7c",
   "metadata": {},
   "outputs": [
    {
     "data": {
      "text/plain": [
       "dict"
      ]
     },
     "execution_count": 2,
     "metadata": {},
     "output_type": "execute_result"
    }
   ],
   "source": [
    "type(Dictonary)"
   ]
  },
  {
   "cell_type": "code",
   "execution_count": 3,
   "id": "27f5dd06",
   "metadata": {},
   "outputs": [
    {
     "name": "stdout",
     "output_type": "stream",
     "text": [
      "{'Key1': 'value1', 'Key2': 'Value2', 'Key3': 'Value4'}\n"
     ]
    }
   ],
   "source": [
    "print(Dictonary)"
   ]
  },
  {
   "cell_type": "code",
   "execution_count": 5,
   "id": "7582058b",
   "metadata": {
    "scrolled": true
   },
   "outputs": [
    {
     "data": {
      "text/plain": [
       "'Value2'"
      ]
     },
     "execution_count": 5,
     "metadata": {},
     "output_type": "execute_result"
    }
   ],
   "source": [
    "Dictonary.get(\"Key2\")"
   ]
  },
  {
   "cell_type": "code",
   "execution_count": 6,
   "id": "461f6afd",
   "metadata": {},
   "outputs": [],
   "source": [
    "Dictonary.get(\"Value2\")"
   ]
  },
  {
   "cell_type": "markdown",
   "id": "0bfd51d5",
   "metadata": {},
   "source": [
    "# Arrays in Python"
   ]
  },
  {
   "cell_type": "code",
   "execution_count": null,
   "id": "0c3df2c4",
   "metadata": {},
   "outputs": [],
   "source": []
  }
 ],
 "metadata": {
  "kernelspec": {
   "display_name": "Python 3 (ipykernel)",
   "language": "python",
   "name": "python3"
  },
  "language_info": {
   "codemirror_mode": {
    "name": "ipython",
    "version": 3
   },
   "file_extension": ".py",
   "mimetype": "text/x-python",
   "name": "python",
   "nbconvert_exporter": "python",
   "pygments_lexer": "ipython3",
   "version": "3.9.7"
  }
 },
 "nbformat": 4,
 "nbformat_minor": 5
}
