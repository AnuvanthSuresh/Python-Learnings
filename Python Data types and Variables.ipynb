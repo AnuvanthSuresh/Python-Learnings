{
 "cells": [
  {
   "cell_type": "markdown",
   "id": "d2c287b3",
   "metadata": {},
   "source": [
    "# Python Data Types and Variables"
   ]
  },
  {
   "cell_type": "code",
   "execution_count": 1,
   "id": "1e7596cc",
   "metadata": {},
   "outputs": [
    {
     "name": "stdout",
     "output_type": "stream",
     "text": [
      "Python data types and Vaiables\n"
     ]
    }
   ],
   "source": [
    "print('Python data types and Vaiables')"
   ]
  },
  {
   "cell_type": "code",
   "execution_count": 2,
   "id": "23a1641d",
   "metadata": {},
   "outputs": [],
   "source": [
    "# Comment in python"
   ]
  },
  {
   "cell_type": "code",
   "execution_count": 4,
   "id": "3210e779",
   "metadata": {},
   "outputs": [
    {
     "data": {
      "text/plain": [
       "'\\nMulti line comment\\nbut its actually a multi line string\\n'"
      ]
     },
     "execution_count": 4,
     "metadata": {},
     "output_type": "execute_result"
    }
   ],
   "source": [
    "\"\"\"\n",
    "Multi line comment\n",
    "but its actually a multi line string\n",
    "\"\"\"\n"
   ]
  },
  {
   "cell_type": "markdown",
   "id": "8a5bb889",
   "metadata": {},
   "source": [
    "## Variables"
   ]
  },
  {
   "cell_type": "code",
   "execution_count": 5,
   "id": "3685c14f",
   "metadata": {},
   "outputs": [],
   "source": [
    "x = 1\n",
    "y = \"Text type\"\n",
    "z = 1.234"
   ]
  },
  {
   "cell_type": "code",
   "execution_count": 6,
   "id": "ca27f0f1",
   "metadata": {},
   "outputs": [
    {
     "name": "stdout",
     "output_type": "stream",
     "text": [
      "1\n",
      "Text type\n",
      "1.234\n"
     ]
    }
   ],
   "source": [
    "print(x)\n",
    "print(y)\n",
    "print(z)"
   ]
  },
  {
   "cell_type": "code",
   "execution_count": 8,
   "id": "b280991a",
   "metadata": {},
   "outputs": [
    {
     "name": "stdout",
     "output_type": "stream",
     "text": [
      "<class 'int'>\n",
      "<class 'str'>\n",
      "<class 'float'>\n"
     ]
    }
   ],
   "source": [
    "print(type(x))\n",
    "print(type(y))\n",
    "print(type(z))"
   ]
  },
  {
   "cell_type": "code",
   "execution_count": 9,
   "id": "3c5d6928",
   "metadata": {},
   "outputs": [],
   "source": [
    "# Casting\n",
    "x = int(3) # 3\n",
    "y = str(3) # '3'\n",
    "z = float(3) # 3.00"
   ]
  },
  {
   "cell_type": "code",
   "execution_count": 10,
   "id": "031eb6a3",
   "metadata": {},
   "outputs": [
    {
     "name": "stdout",
     "output_type": "stream",
     "text": [
      "<class 'int'>\n",
      "<class 'str'>\n",
      "<class 'float'>\n"
     ]
    }
   ],
   "source": [
    "print(type(x))\n",
    "print(type(y))\n",
    "print(type(z))"
   ]
  },
  {
   "cell_type": "code",
   "execution_count": 11,
   "id": "7d454362",
   "metadata": {},
   "outputs": [],
   "source": [
    "# Assign multiple values\n",
    "\n",
    "x , y, z = 1, 'two',3.00"
   ]
  },
  {
   "cell_type": "code",
   "execution_count": 12,
   "id": "3e95f30d",
   "metadata": {},
   "outputs": [
    {
     "name": "stdout",
     "output_type": "stream",
     "text": [
      "<class 'int'>\n",
      "<class 'str'>\n",
      "<class 'float'>\n"
     ]
    }
   ],
   "source": [
    "print(type(x))\n",
    "print(type(y))\n",
    "print(type(z))"
   ]
  },
  {
   "cell_type": "code",
   "execution_count": 13,
   "id": "df165d16",
   "metadata": {},
   "outputs": [
    {
     "name": "stdout",
     "output_type": "stream",
     "text": [
      "Multiple\n",
      "Multiple\n",
      "Multiple\n"
     ]
    }
   ],
   "source": [
    "# One value to multiple\n",
    "\n",
    "x = y = z = 'Multiple'\n",
    "print(x)\n",
    "print(y)\n",
    "print(z)"
   ]
  },
  {
   "cell_type": "code",
   "execution_count": 14,
   "id": "466cac18",
   "metadata": {},
   "outputs": [
    {
     "name": "stdout",
     "output_type": "stream",
     "text": [
      "2\n",
      "3\n",
      "3\n",
      "2\n"
     ]
    }
   ],
   "source": [
    "x = 2\n",
    "y = 3\n",
    "print(x)\n",
    "print(y)\n",
    "x , y = y , x\n",
    "print(x)\n",
    "print(y)"
   ]
  },
  {
   "cell_type": "code",
   "execution_count": 15,
   "id": "4ce80d98",
   "metadata": {},
   "outputs": [],
   "source": [
    "# Assign a collection to individual variables (Unpacking)"
   ]
  },
  {
   "cell_type": "code",
   "execution_count": 16,
   "id": "5986b1e8",
   "metadata": {},
   "outputs": [
    {
     "name": "stdout",
     "output_type": "stream",
     "text": [
      "value1\n",
      "value2\n",
      "value3\n"
     ]
    }
   ],
   "source": [
    "Sample = [\"value1\",\"value2\",\"value3\"]\n",
    "x,y,z = Sample\n",
    "print(x)\n",
    "print(y)\n",
    "print(z)"
   ]
  },
  {
   "cell_type": "code",
   "execution_count": 17,
   "id": "f580946a",
   "metadata": {},
   "outputs": [],
   "source": [
    "# Print variables to console"
   ]
  },
  {
   "cell_type": "code",
   "execution_count": 18,
   "id": "bab439bd",
   "metadata": {},
   "outputs": [
    {
     "name": "stdout",
     "output_type": "stream",
     "text": [
      "Variable x = value1\n"
     ]
    }
   ],
   "source": [
    "print('Variable x = '+x)"
   ]
  },
  {
   "cell_type": "code",
   "execution_count": 23,
   "id": "6e141840",
   "metadata": {},
   "outputs": [
    {
     "name": "stdout",
     "output_type": "stream",
     "text": [
      "Global Variable : 2\n"
     ]
    }
   ],
   "source": [
    "# Global Variables\n",
    "\n",
    "GlobalVariable = 2\n",
    "\n",
    "def Func():\n",
    "    print('Global Variable : '+ str(GlobalVariable))\n",
    "    \n",
    "Func()"
   ]
  },
  {
   "cell_type": "code",
   "execution_count": 24,
   "id": "d5ca3103",
   "metadata": {},
   "outputs": [
    {
     "name": "stdout",
     "output_type": "stream",
     "text": [
      "Local Variable : 3\n"
     ]
    }
   ],
   "source": [
    "GlobalVariable = 2\n",
    "\n",
    "def Func():\n",
    "    LocalVaariable = 3\n",
    "    print('Local Variable : '+ str(LocalVaariable))\n",
    "    \n",
    "Func()"
   ]
  },
  {
   "cell_type": "markdown",
   "id": "7809ff4f",
   "metadata": {},
   "source": [
    "## Data types"
   ]
  },
  {
   "cell_type": "code",
   "execution_count": 63,
   "id": "968e0726",
   "metadata": {},
   "outputs": [],
   "source": [
    "# Setting the data types \n",
    "\n",
    "u = \"String\"                     # Str\n",
    "u = 5                            # Int \n",
    "u = 5.15                         # Float\n",
    "u = 2+1j                         # Complex\n",
    "u = ['List1','List2','List3']    # List\n",
    "u = ('Tuple1','Tuple2','Tuple3') # Tuple\n",
    "u = range(6)                     # range\n",
    "u = {\"value1\":1,\"Value2\":2}      # dict\n",
    "u = {\"set1\",\"set2\",\"set3\"}       # Set\n",
    "u = True                         # Boolean\n",
    "u = b\"byte\"                      # bytes\n",
    "u = bytearray(5)                 # Bytearray"
   ]
  },
  {
   "cell_type": "markdown",
   "id": "a0eabffa",
   "metadata": {},
   "source": [
    "### String"
   ]
  },
  {
   "cell_type": "code",
   "execution_count": 35,
   "id": "087af536",
   "metadata": {},
   "outputs": [
    {
     "name": "stdout",
     "output_type": "stream",
     "text": [
      "i\n",
      " \n",
      "h\n"
     ]
    }
   ],
   "source": [
    "# Strings\n",
    "\n",
    "sample = \"Hi how are you\"\n",
    "\n",
    "print(sample[1])\n",
    "print(sample[2])\n",
    "print(sample[3])"
   ]
  },
  {
   "cell_type": "code",
   "execution_count": 37,
   "id": "d4fe10e7",
   "metadata": {},
   "outputs": [
    {
     "name": "stdout",
     "output_type": "stream",
     "text": [
      "H\n",
      "i\n",
      " \n",
      "h\n",
      "o\n",
      "w\n",
      " \n",
      "a\n",
      "r\n",
      "e\n",
      " \n",
      "y\n",
      "o\n",
      "u\n"
     ]
    }
   ],
   "source": [
    "for data in sample:\n",
    "    print(data)"
   ]
  },
  {
   "cell_type": "code",
   "execution_count": 38,
   "id": "cc2ad171",
   "metadata": {},
   "outputs": [
    {
     "name": "stdout",
     "output_type": "stream",
     "text": [
      "H\n",
      "i\n",
      " \n",
      "h\n",
      "o\n",
      "w\n"
     ]
    }
   ],
   "source": [
    "for data in range(6):\n",
    "    print(sample[data])"
   ]
  },
  {
   "cell_type": "code",
   "execution_count": 46,
   "id": "cfc53c02",
   "metadata": {},
   "outputs": [
    {
     "name": "stdout",
     "output_type": "stream",
     "text": [
      "14\n"
     ]
    }
   ],
   "source": [
    "print(len(sample))"
   ]
  },
  {
   "cell_type": "code",
   "execution_count": 61,
   "id": "464b1f57",
   "metadata": {},
   "outputs": [
    {
     "name": "stdout",
     "output_type": "stream",
     "text": [
      "are is available in the text\n",
      "sample is not available in the text\n"
     ]
    }
   ],
   "source": [
    "for text in [\"are\",\"sample\"]:\n",
    "    if text in sample:\n",
    "        print( text +' is available in the text')\n",
    "    else:\n",
    "        print( text +' is not available in the text')"
   ]
  },
  {
   "cell_type": "code",
   "execution_count": 69,
   "id": "134a649c",
   "metadata": {},
   "outputs": [
    {
     "name": "stdout",
     "output_type": "stream",
     "text": [
      "u\n",
      "Hi how are you\n",
      "how are you\n",
      "Hi how are you\n"
     ]
    }
   ],
   "source": [
    "# Slicing\n",
    "\n",
    "print(sample[-1:len(sample)])\n",
    "print(sample[:len(sample)])\n",
    "print(sample[3:len(sample)])\n",
    "print(sample[:])"
   ]
  },
  {
   "cell_type": "code",
   "execution_count": 77,
   "id": "1d4119b0",
   "metadata": {},
   "outputs": [
    {
     "name": "stdout",
     "output_type": "stream",
     "text": [
      "HI HOW ARE YOU\n",
      "hi how are you\n",
      "Hi how are you\n",
      "Hi how are uou\n",
      "['Hi', 'how', 'are', 'you']\n"
     ]
    }
   ],
   "source": [
    "# String Methods\n",
    "\n",
    "print(sample.upper())\n",
    "print(sample.lower())\n",
    "print(sample.strip())\n",
    "print(sample.replace('y','u'))\n",
    "print(sample.split(' '))"
   ]
  },
  {
   "cell_type": "code",
   "execution_count": 81,
   "id": "47b3e392",
   "metadata": {},
   "outputs": [
    {
     "name": "stdout",
     "output_type": "stream",
     "text": [
      "Hi i am from chennai and i am 24 years old\n"
     ]
    }
   ],
   "source": [
    "# String formatting\n",
    "\n",
    "age = 24\n",
    "place = 'chennai'\n",
    "sentence = \"Hi i am from {0} and i am {1} years old\"\n",
    "\n",
    "print(sentence.format(place,age))"
   ]
  },
  {
   "cell_type": "markdown",
   "id": "7072d627",
   "metadata": {},
   "source": [
    "### List"
   ]
  },
  {
   "cell_type": "code",
   "execution_count": 84,
   "id": "ff8f6abe",
   "metadata": {},
   "outputs": [
    {
     "name": "stdout",
     "output_type": "stream",
     "text": [
      "['java', 'python', 'data', 'variable']\n",
      "<class 'list'>\n"
     ]
    }
   ],
   "source": [
    "list = [\"java\",\"python\",\"data\",\"variable\"]\n",
    "print(list)\n",
    "print(type(list))"
   ]
  },
  {
   "cell_type": "code",
   "execution_count": 86,
   "id": "bf0d0717",
   "metadata": {},
   "outputs": [
    {
     "name": "stdout",
     "output_type": "stream",
     "text": [
      "['java', 'python', 'data', 'variable', 'variable']\n"
     ]
    }
   ],
   "source": [
    "# Allows duplicates\n",
    "list = [\"java\",\"python\",\"data\",\"variable\",\"variable\"]\n",
    "print(list)"
   ]
  },
  {
   "cell_type": "code",
   "execution_count": 87,
   "id": "39079626",
   "metadata": {},
   "outputs": [
    {
     "name": "stdout",
     "output_type": "stream",
     "text": [
      "['java', True, 'data', 1]\n"
     ]
    }
   ],
   "source": [
    "list = [\"java\",True,\"data\",1]\n",
    "print(list)"
   ]
  },
  {
   "cell_type": "code",
   "execution_count": 89,
   "id": "5163bab9",
   "metadata": {},
   "outputs": [
    {
     "name": "stdout",
     "output_type": "stream",
     "text": [
      "<class 'str'>\n",
      "<class 'bool'>\n",
      "<class 'int'>\n"
     ]
    }
   ],
   "source": [
    "print(type(list[0]))\n",
    "print(type(list[1]))\n",
    "print(type(list[3]))"
   ]
  },
  {
   "cell_type": "code",
   "execution_count": 90,
   "id": "0e476edd",
   "metadata": {},
   "outputs": [
    {
     "name": "stdout",
     "output_type": "stream",
     "text": [
      "4\n"
     ]
    }
   ],
   "source": [
    "print(len(list))"
   ]
  },
  {
   "cell_type": "code",
   "execution_count": 95,
   "id": "a8170e7f",
   "metadata": {},
   "outputs": [
    {
     "name": "stdout",
     "output_type": "stream",
     "text": [
      "['data']\n",
      "['java']\n"
     ]
    }
   ],
   "source": [
    "print(list[2:3])\n",
    "print(list[-4:-3])"
   ]
  },
  {
   "cell_type": "code",
   "execution_count": 98,
   "id": "a8424ff8",
   "metadata": {},
   "outputs": [
    {
     "name": "stdout",
     "output_type": "stream",
     "text": [
      "True\n"
     ]
    }
   ],
   "source": [
    "print(\"java\" in list)"
   ]
  },
  {
   "cell_type": "code",
   "execution_count": 100,
   "id": "2e56b4c8",
   "metadata": {},
   "outputs": [
    {
     "name": "stdout",
     "output_type": "stream",
     "text": [
      "['java', True, 'data', 1]\n",
      "['python', True, 'data', 1]\n"
     ]
    }
   ],
   "source": [
    "print(list)\n",
    "list[0] = \"python\"\n",
    "print(list)"
   ]
  },
  {
   "cell_type": "code",
   "execution_count": 104,
   "id": "00e9fe8f",
   "metadata": {},
   "outputs": [
    {
     "name": "stdout",
     "output_type": "stream",
     "text": [
      "['python', True, 'data', 1, 'NewData', 'NewData', 'NewData']\n"
     ]
    }
   ],
   "source": [
    "list.append(\"NewData\")\n",
    "print(list)"
   ]
  },
  {
   "cell_type": "code",
   "execution_count": 106,
   "id": "2cf8711f",
   "metadata": {},
   "outputs": [
    {
     "name": "stdout",
     "output_type": "stream",
     "text": [
      "['python', True, 'data', 1, 'NewData']\n"
     ]
    }
   ],
   "source": [
    "list.remove(\"NewData\")\n",
    "print(list)"
   ]
  },
  {
   "cell_type": "code",
   "execution_count": 107,
   "id": "3eb7a310",
   "metadata": {},
   "outputs": [
    {
     "name": "stdout",
     "output_type": "stream",
     "text": [
      "<class 'list'>\n"
     ]
    }
   ],
   "source": [
    "del list\n",
    "print(list)"
   ]
  },
  {
   "cell_type": "code",
   "execution_count": 111,
   "id": "36297888",
   "metadata": {},
   "outputs": [
    {
     "name": "stdout",
     "output_type": "stream",
     "text": [
      "['java', 'python', 'data', 'variable', 'variable']\n",
      "['data', 'java', 'python', 'variable', 'variable']\n",
      "['variable', 'variable', 'python', 'java', 'data']\n"
     ]
    }
   ],
   "source": [
    "list = [\"java\",\"python\",\"data\",\"variable\",\"variable\"]\n",
    "print(list)\n",
    "list.sort()\n",
    "print(list)\n",
    "list.sort(reverse = True)\n",
    "print(list)"
   ]
  },
  {
   "cell_type": "markdown",
   "id": "aa574a8a",
   "metadata": {},
   "source": [
    "### Tuples"
   ]
  },
  {
   "cell_type": "code",
   "execution_count": 113,
   "id": "1f7814b0",
   "metadata": {},
   "outputs": [
    {
     "name": "stdout",
     "output_type": "stream",
     "text": [
      "('java', 'JSP', 'Apache', 'test')\n",
      "<class 'tuple'>\n"
     ]
    }
   ],
   "source": [
    "tuple = (\"java\",\"JSP\",\"Apache\",\"test\")\n",
    "print(tuple)\n",
    "print(type(tuple))"
   ]
  },
  {
   "cell_type": "code",
   "execution_count": 116,
   "id": "bf4f4245",
   "metadata": {},
   "outputs": [
    {
     "name": "stdout",
     "output_type": "stream",
     "text": [
      "java\n",
      "('java', 'JSP')\n",
      "True\n"
     ]
    }
   ],
   "source": [
    "print(tuple[0])\n",
    "print(tuple[:2])\n",
    "print(\"java\" in tuple)"
   ]
  },
  {
   "cell_type": "code",
   "execution_count": 117,
   "id": "ef69d5d4",
   "metadata": {},
   "outputs": [
    {
     "name": "stdout",
     "output_type": "stream",
     "text": [
      "java\n",
      "JSP\n",
      "Apache\n",
      "test\n"
     ]
    }
   ],
   "source": [
    "for text in tuple:\n",
    "    print(text)"
   ]
  },
  {
   "cell_type": "code",
   "execution_count": 118,
   "id": "814a02ca",
   "metadata": {},
   "outputs": [],
   "source": [
    "# Editing tuple is not possible so convert to list by list(tuple) make changes to list and convert that back to tuple"
   ]
  },
  {
   "cell_type": "code",
   "execution_count": 122,
   "id": "66a4e28c",
   "metadata": {},
   "outputs": [
    {
     "name": "stdout",
     "output_type": "stream",
     "text": [
      "('java', 'JSP', 'Apache', 'test')\n",
      "java\n",
      "JSP\n",
      "Apache\n",
      "test\n",
      "('java', 'JSP', 'Apache', 'test')\n",
      "java\n",
      "JSP\n",
      "['Apache', 'test']\n"
     ]
    }
   ],
   "source": [
    "# Unpacking tuples\n",
    "\n",
    "print(tuple)\n",
    "value1, value2, value3, value4 = tuple\n",
    "print(value1)\n",
    "print(value2)\n",
    "print(value3)\n",
    "print(value4)\n",
    "print(tuple)\n",
    "value1, value2, *value3 = tuple\n",
    "print(value1)\n",
    "print(value2)\n",
    "print(value3)"
   ]
  },
  {
   "cell_type": "code",
   "execution_count": 124,
   "id": "6ca97900",
   "metadata": {},
   "outputs": [
    {
     "name": "stdout",
     "output_type": "stream",
     "text": [
      "1\n"
     ]
    }
   ],
   "source": [
    "print(tuple.count(\"java\"))"
   ]
  },
  {
   "cell_type": "markdown",
   "id": "1cf292ce",
   "metadata": {},
   "source": [
    "### Sets"
   ]
  },
  {
   "cell_type": "code",
   "execution_count": 132,
   "id": "4d5e7627",
   "metadata": {},
   "outputs": [
    {
     "name": "stdout",
     "output_type": "stream",
     "text": [
      "{'one', 'two', 'three'}\n",
      "<class 'set'>\n"
     ]
    }
   ],
   "source": [
    "set = {\"one\",\"two\",\"three\", \"three\"} # Duplicates not allowed\n",
    "print(set)\n",
    "print(type(set))"
   ]
  },
  {
   "cell_type": "code",
   "execution_count": 133,
   "id": "a8aa5b19",
   "metadata": {},
   "outputs": [
    {
     "name": "stdout",
     "output_type": "stream",
     "text": [
      "{'four', 'one', 'two', 'three'}\n",
      "{'one', 'three', 'Five', 'four', 'two'}\n",
      "{'three', 'Five', 'four', 'two'}\n",
      "{'Five', 'four', 'two'}\n"
     ]
    }
   ],
   "source": [
    "set.add(\"four\")\n",
    "print(set)\n",
    "set.add(\"Five\")\n",
    "print(set)\n",
    "set.remove(\"one\")\n",
    "print(set)\n",
    "set.pop()\n",
    "print(set)"
   ]
  },
  {
   "cell_type": "markdown",
   "id": "0209dfac",
   "metadata": {},
   "source": [
    "### Disctionary (Map)"
   ]
  },
  {
   "cell_type": "code",
   "execution_count": 135,
   "id": "a53f7050",
   "metadata": {},
   "outputs": [
    {
     "name": "stdout",
     "output_type": "stream",
     "text": [
      "{'String': 'Anuvanth', 'Integer': 24, 'FLoat': 39000}\n",
      "<class 'dict'>\n"
     ]
    }
   ],
   "source": [
    "dictionary = {\"String\":\"Anuvanth\",\"Integer\":24,\"FLoat\":39000}\n",
    "print(dictionary)\n",
    "print(type(dictionary))"
   ]
  },
  {
   "cell_type": "code",
   "execution_count": 136,
   "id": "16148127",
   "metadata": {},
   "outputs": [
    {
     "name": "stdout",
     "output_type": "stream",
     "text": [
      "Anuvanth\n"
     ]
    }
   ],
   "source": [
    "print(dictionary.get(\"String\"))"
   ]
  },
  {
   "cell_type": "code",
   "execution_count": 137,
   "id": "79cf2b3a",
   "metadata": {},
   "outputs": [
    {
     "name": "stdout",
     "output_type": "stream",
     "text": [
      "dict_keys(['String', 'Integer', 'FLoat'])\n"
     ]
    }
   ],
   "source": [
    "print(dictionary.keys())"
   ]
  },
  {
   "cell_type": "code",
   "execution_count": 138,
   "id": "faf3fe49",
   "metadata": {},
   "outputs": [
    {
     "name": "stdout",
     "output_type": "stream",
     "text": [
      "Anuvanth\n"
     ]
    }
   ],
   "source": [
    "print(dictionary[\"String\"])"
   ]
  },
  {
   "cell_type": "code",
   "execution_count": 140,
   "id": "8f44eea8",
   "metadata": {},
   "outputs": [
    {
     "name": "stdout",
     "output_type": "stream",
     "text": [
      "dict_values(['Anuvanth', 24, 39000])\n"
     ]
    }
   ],
   "source": [
    "print(dictionary.values())"
   ]
  },
  {
   "cell_type": "code",
   "execution_count": 141,
   "id": "b7abb592",
   "metadata": {},
   "outputs": [
    {
     "name": "stdout",
     "output_type": "stream",
     "text": [
      "True\n"
     ]
    }
   ],
   "source": [
    "print(\"String\" in dictionary)"
   ]
  },
  {
   "cell_type": "code",
   "execution_count": 143,
   "id": "d7374dad",
   "metadata": {},
   "outputs": [
    {
     "name": "stdout",
     "output_type": "stream",
     "text": [
      "{'String': 'Anuvanth', 'Integer': 24, 'FLoat': 39000}\n",
      "{'String': 'New Value', 'Integer': 24, 'FLoat': 39000}\n"
     ]
    }
   ],
   "source": [
    "print(dictionary)\n",
    "dictionary[\"String\"] = \"New Value\"\n",
    "print(dictionary)"
   ]
  },
  {
   "cell_type": "code",
   "execution_count": 150,
   "id": "852523f6",
   "metadata": {},
   "outputs": [
    {
     "name": "stdout",
     "output_type": "stream",
     "text": [
      "{'String': 'New Value', 'Integer': 24, 'FLoat': 39000, 'Company': 'New COmpany'}\n"
     ]
    }
   ],
   "source": [
    "# Add element\n",
    "\n",
    "dictionary[\"Company\"] = \"New COmpany\"\n",
    "print(dictionary)"
   ]
  },
  {
   "cell_type": "code",
   "execution_count": 151,
   "id": "51d7cb2a",
   "metadata": {},
   "outputs": [
    {
     "name": "stdout",
     "output_type": "stream",
     "text": [
      "{'String': 'New Value', 'Integer': 24, 'FLoat': 39000}\n"
     ]
    }
   ],
   "source": [
    "dictionary.pop(\"Company\")\n",
    "print(dictionary)"
   ]
  },
  {
   "cell_type": "code",
   "execution_count": 155,
   "id": "71dc0c95",
   "metadata": {},
   "outputs": [
    {
     "name": "stdout",
     "output_type": "stream",
     "text": [
      "String : New Value\n",
      "Integer : 24\n",
      "FLoat : 39000\n"
     ]
    }
   ],
   "source": [
    "for keys in dictionary:\n",
    "    print(keys + \" : \" + str(dictionary[keys]))"
   ]
  },
  {
   "cell_type": "code",
   "execution_count": null,
   "id": "0a2f6dbc",
   "metadata": {},
   "outputs": [],
   "source": []
  }
 ],
 "metadata": {
  "kernelspec": {
   "display_name": "Python 3 (ipykernel)",
   "language": "python",
   "name": "python3"
  },
  "language_info": {
   "codemirror_mode": {
    "name": "ipython",
    "version": 3
   },
   "file_extension": ".py",
   "mimetype": "text/x-python",
   "name": "python",
   "nbconvert_exporter": "python",
   "pygments_lexer": "ipython3",
   "version": "3.9.7"
  }
 },
 "nbformat": 4,
 "nbformat_minor": 5
}
