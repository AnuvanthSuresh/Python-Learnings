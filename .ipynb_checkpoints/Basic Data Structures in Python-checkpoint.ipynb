{
 "cells": [
  {
   "cell_type": "markdown",
   "id": "9c4e875f",
   "metadata": {},
   "source": [
    "# Dictionary in Python"
   ]
  },
  {
   "cell_type": "code",
   "execution_count": 1,
   "id": "cc50c655",
   "metadata": {},
   "outputs": [],
   "source": [
    "Dictonary = {\"Key1\":\"value1\",\"Key2\":\"Value2\",\"Key3\":\"Value4\"}"
   ]
  },
  {
   "cell_type": "code",
   "execution_count": 2,
   "id": "d3756b7c",
   "metadata": {},
   "outputs": [
    {
     "data": {
      "text/plain": [
       "dict"
      ]
     },
     "execution_count": 2,
     "metadata": {},
     "output_type": "execute_result"
    }
   ],
   "source": [
    "type(Dictonary)"
   ]
  },
  {
   "cell_type": "code",
   "execution_count": 3,
   "id": "27f5dd06",
   "metadata": {},
   "outputs": [
    {
     "name": "stdout",
     "output_type": "stream",
     "text": [
      "{'Key1': 'value1', 'Key2': 'Value2', 'Key3': 'Value4'}\n"
     ]
    }
   ],
   "source": [
    "print(Dictonary)"
   ]
  },
  {
   "cell_type": "code",
   "execution_count": 5,
   "id": "7582058b",
   "metadata": {
    "scrolled": true
   },
   "outputs": [
    {
     "data": {
      "text/plain": [
       "'Value2'"
      ]
     },
     "execution_count": 5,
     "metadata": {},
     "output_type": "execute_result"
    }
   ],
   "source": [
    "Dictonary.get(\"Key2\")"
   ]
  },
  {
   "cell_type": "code",
   "execution_count": 6,
   "id": "461f6afd",
   "metadata": {},
   "outputs": [],
   "source": [
    "Dictonary.get(\"Value2\")"
   ]
  },
  {
   "cell_type": "markdown",
   "id": "0bfd51d5",
   "metadata": {},
   "source": [
    "# List in Python"
   ]
  },
  {
   "cell_type": "code",
   "execution_count": 1,
   "id": "0c3df2c4",
   "metadata": {},
   "outputs": [],
   "source": [
    "List = [] #empty list"
   ]
  },
  {
   "cell_type": "code",
   "execution_count": 2,
   "id": "f192e04a",
   "metadata": {},
   "outputs": [
    {
     "data": {
      "text/plain": [
       "list"
      ]
     },
     "execution_count": 2,
     "metadata": {},
     "output_type": "execute_result"
    }
   ],
   "source": [
    "type(List)"
   ]
  },
  {
   "cell_type": "code",
   "execution_count": 3,
   "id": "4156123a",
   "metadata": {},
   "outputs": [
    {
     "name": "stdout",
     "output_type": "stream",
     "text": [
      "[]\n"
     ]
    }
   ],
   "source": [
    "print(List)"
   ]
  },
  {
   "cell_type": "code",
   "execution_count": 5,
   "id": "4ba9f83e",
   "metadata": {},
   "outputs": [],
   "source": [
    "List.insert(1,\"Value1\")"
   ]
  },
  {
   "cell_type": "code",
   "execution_count": 6,
   "id": "d4ea04c8",
   "metadata": {},
   "outputs": [],
   "source": [
    "List.insert(2,\"Value2\")"
   ]
  },
  {
   "cell_type": "code",
   "execution_count": 7,
   "id": "205b1447",
   "metadata": {},
   "outputs": [
    {
     "name": "stdout",
     "output_type": "stream",
     "text": [
      "['Value1', 'Value2']\n"
     ]
    }
   ],
   "source": [
    "print(List)"
   ]
  },
  {
   "cell_type": "code",
   "execution_count": 13,
   "id": "9d2ff5cb",
   "metadata": {},
   "outputs": [
    {
     "data": {
      "text/plain": [
       "'Value1'"
      ]
     },
     "execution_count": 13,
     "metadata": {},
     "output_type": "execute_result"
    }
   ],
   "source": [
    "List.pop(0)"
   ]
  },
  {
   "cell_type": "code",
   "execution_count": 14,
   "id": "c4204cf1",
   "metadata": {},
   "outputs": [
    {
     "name": "stdout",
     "output_type": "stream",
     "text": [
      "[]\n"
     ]
    }
   ],
   "source": [
    "print(List)"
   ]
  },
  {
   "cell_type": "code",
   "execution_count": 15,
   "id": "ae5129ee",
   "metadata": {},
   "outputs": [],
   "source": [
    "List.insert(2,\"Value2\")"
   ]
  },
  {
   "cell_type": "code",
   "execution_count": 16,
   "id": "8891a8c1",
   "metadata": {},
   "outputs": [],
   "source": [
    "List.insert(1,\"Value1\")"
   ]
  },
  {
   "cell_type": "code",
   "execution_count": 17,
   "id": "9208d5eb",
   "metadata": {},
   "outputs": [
    {
     "name": "stdout",
     "output_type": "stream",
     "text": [
      "['Value2', 'Value1']\n"
     ]
    }
   ],
   "source": [
    "print(List)"
   ]
  },
  {
   "cell_type": "markdown",
   "id": "30a02b9c",
   "metadata": {},
   "source": [
    "# Tuple in python"
   ]
  },
  {
   "cell_type": "code",
   "execution_count": 18,
   "id": "f81161ba",
   "metadata": {},
   "outputs": [],
   "source": [
    "Tuple = ()"
   ]
  },
  {
   "cell_type": "code",
   "execution_count": 19,
   "id": "f64a5f06",
   "metadata": {},
   "outputs": [
    {
     "data": {
      "text/plain": [
       "tuple"
      ]
     },
     "execution_count": 19,
     "metadata": {},
     "output_type": "execute_result"
    }
   ],
   "source": [
    "type(Tuple)"
   ]
  },
  {
   "cell_type": "code",
   "execution_count": 20,
   "id": "50459d32",
   "metadata": {},
   "outputs": [
    {
     "name": "stdout",
     "output_type": "stream",
     "text": [
      "()\n"
     ]
    }
   ],
   "source": [
    "print(Tuple)"
   ]
  },
  {
   "cell_type": "code",
   "execution_count": 25,
   "id": "9c19a41a",
   "metadata": {},
   "outputs": [],
   "source": [
    "Tuple = Tuple + (1,3,2,2)"
   ]
  },
  {
   "cell_type": "code",
   "execution_count": 26,
   "id": "1c07550c",
   "metadata": {},
   "outputs": [
    {
     "name": "stdout",
     "output_type": "stream",
     "text": [
      "(1, 3, 2, 1, 3, 2, 2)\n"
     ]
    }
   ],
   "source": [
    "print(Tuple)"
   ]
  },
  {
   "cell_type": "code",
   "execution_count": 27,
   "id": "697782cc",
   "metadata": {},
   "outputs": [
    {
     "data": {
      "text/plain": [
       "3"
      ]
     },
     "execution_count": 27,
     "metadata": {},
     "output_type": "execute_result"
    }
   ],
   "source": [
    "Tuple.count(2)"
   ]
  },
  {
   "cell_type": "code",
   "execution_count": 28,
   "id": "933777d6",
   "metadata": {},
   "outputs": [
    {
     "data": {
      "text/plain": [
       "2"
      ]
     },
     "execution_count": 28,
     "metadata": {},
     "output_type": "execute_result"
    }
   ],
   "source": [
    "Tuple.index(2)"
   ]
  },
  {
   "cell_type": "markdown",
   "id": "0cfceae6",
   "metadata": {},
   "source": [
    "# Set in Python"
   ]
  },
  {
   "cell_type": "code",
   "execution_count": 29,
   "id": "c9efe3ef",
   "metadata": {},
   "outputs": [],
   "source": [
    "Set = {1,2,2,3,3,4}"
   ]
  },
  {
   "cell_type": "code",
   "execution_count": 31,
   "id": "ec1b337b",
   "metadata": {},
   "outputs": [
    {
     "data": {
      "text/plain": [
       "set"
      ]
     },
     "execution_count": 31,
     "metadata": {},
     "output_type": "execute_result"
    }
   ],
   "source": [
    "type(Set)"
   ]
  },
  {
   "cell_type": "code",
   "execution_count": 32,
   "id": "16659ba3",
   "metadata": {},
   "outputs": [
    {
     "name": "stdout",
     "output_type": "stream",
     "text": [
      "{1, 2, 3, 4}\n"
     ]
    }
   ],
   "source": [
    "print(Set)"
   ]
  },
  {
   "cell_type": "code",
   "execution_count": 33,
   "id": "919056e9",
   "metadata": {},
   "outputs": [],
   "source": [
    "Set2 = {2,3,4}"
   ]
  },
  {
   "cell_type": "code",
   "execution_count": 34,
   "id": "1ebf4a38",
   "metadata": {},
   "outputs": [
    {
     "data": {
      "text/plain": [
       "{2, 3, 4}"
      ]
     },
     "execution_count": 34,
     "metadata": {},
     "output_type": "execute_result"
    }
   ],
   "source": [
    "Set.intersection(Set2)"
   ]
  },
  {
   "cell_type": "code",
   "execution_count": 35,
   "id": "31a0eaac",
   "metadata": {},
   "outputs": [
    {
     "data": {
      "text/plain": [
       "{1, 2, 3, 4}"
      ]
     },
     "execution_count": 35,
     "metadata": {},
     "output_type": "execute_result"
    }
   ],
   "source": [
    "Set.union(Set2)"
   ]
  },
  {
   "cell_type": "code",
   "execution_count": 36,
   "id": "ad3ffa85",
   "metadata": {},
   "outputs": [],
   "source": [
    "Set.add(4)"
   ]
  },
  {
   "cell_type": "code",
   "execution_count": 40,
   "id": "3bc968ca",
   "metadata": {},
   "outputs": [
    {
     "name": "stdout",
     "output_type": "stream",
     "text": [
      "{1, 2, 3, 4, 8}\n"
     ]
    }
   ],
   "source": [
    "Set.add(8)\n",
    "print(Set)"
   ]
  },
  {
   "cell_type": "markdown",
   "id": "ac5d507b",
   "metadata": {},
   "source": [
    "# Stack in Python"
   ]
  },
  {
   "cell_type": "markdown",
   "id": "79c4721d",
   "metadata": {},
   "source": [
    "### Stack using List"
   ]
  },
  {
   "cell_type": "code",
   "execution_count": 1,
   "id": "a68e9592",
   "metadata": {},
   "outputs": [],
   "source": [
    "Stack = []\n",
    "Stack.append(\"Value1\")\n",
    "Stack.append(\"Value2\")\n",
    "Stack.append(\"Value3\")"
   ]
  },
  {
   "cell_type": "code",
   "execution_count": 2,
   "id": "10e87f3c",
   "metadata": {},
   "outputs": [
    {
     "data": {
      "text/plain": [
       "list"
      ]
     },
     "execution_count": 2,
     "metadata": {},
     "output_type": "execute_result"
    }
   ],
   "source": [
    "type(Stack)"
   ]
  },
  {
   "cell_type": "code",
   "execution_count": 3,
   "id": "6e6271eb",
   "metadata": {},
   "outputs": [
    {
     "name": "stdout",
     "output_type": "stream",
     "text": [
      "['Value1', 'Value2', 'Value3']\n"
     ]
    }
   ],
   "source": [
    "print(Stack)"
   ]
  },
  {
   "cell_type": "code",
   "execution_count": 4,
   "id": "4eb72385",
   "metadata": {},
   "outputs": [
    {
     "data": {
      "text/plain": [
       "'Value3'"
      ]
     },
     "execution_count": 4,
     "metadata": {},
     "output_type": "execute_result"
    }
   ],
   "source": [
    "Stack.pop()"
   ]
  },
  {
   "cell_type": "code",
   "execution_count": 5,
   "id": "ccfa1150",
   "metadata": {},
   "outputs": [
    {
     "name": "stdout",
     "output_type": "stream",
     "text": [
      "['Value1', 'Value2']\n"
     ]
    }
   ],
   "source": [
    "print(Stack)"
   ]
  },
  {
   "cell_type": "code",
   "execution_count": 6,
   "id": "14ae81aa",
   "metadata": {},
   "outputs": [],
   "source": [
    "Stack.append(\"Value4\")"
   ]
  },
  {
   "cell_type": "code",
   "execution_count": 7,
   "id": "7f286ddf",
   "metadata": {},
   "outputs": [
    {
     "data": {
      "text/plain": [
       "'Value4'"
      ]
     },
     "execution_count": 7,
     "metadata": {},
     "output_type": "execute_result"
    }
   ],
   "source": [
    "Stack.pop()"
   ]
  },
  {
   "cell_type": "markdown",
   "id": "ae3aa4d4",
   "metadata": {},
   "source": [
    "# Queue in Python"
   ]
  },
  {
   "cell_type": "code",
   "execution_count": 14,
   "id": "8aad8f70",
   "metadata": {},
   "outputs": [],
   "source": [
    "Queue = []"
   ]
  },
  {
   "cell_type": "code",
   "execution_count": 15,
   "id": "1c9f1e4a",
   "metadata": {},
   "outputs": [],
   "source": [
    "Queue.append(\"Value1\")\n",
    "Queue.append(\"Value2\")\n",
    "Queue.append(\"Value3\")"
   ]
  },
  {
   "cell_type": "code",
   "execution_count": 16,
   "id": "a25a4f0d",
   "metadata": {},
   "outputs": [
    {
     "name": "stdout",
     "output_type": "stream",
     "text": [
      "['Value1', 'Value2', 'Value3']\n"
     ]
    }
   ],
   "source": [
    "print(Queue)"
   ]
  },
  {
   "cell_type": "code",
   "execution_count": 17,
   "id": "6a8e5623",
   "metadata": {},
   "outputs": [
    {
     "data": {
      "text/plain": [
       "'Value1'"
      ]
     },
     "execution_count": 17,
     "metadata": {},
     "output_type": "execute_result"
    }
   ],
   "source": [
    "Queue.pop(0)"
   ]
  },
  {
   "cell_type": "code",
   "execution_count": 18,
   "id": "c9a14453",
   "metadata": {},
   "outputs": [
    {
     "name": "stdout",
     "output_type": "stream",
     "text": [
      "['Value2', 'Value3']\n"
     ]
    }
   ],
   "source": [
    "print(Queue)"
   ]
  },
  {
   "cell_type": "code",
   "execution_count": 19,
   "id": "5f6e5453",
   "metadata": {},
   "outputs": [],
   "source": [
    "Queue.append(\"Value4\")"
   ]
  },
  {
   "cell_type": "code",
   "execution_count": 20,
   "id": "deab9775",
   "metadata": {},
   "outputs": [
    {
     "data": {
      "text/plain": [
       "'Value2'"
      ]
     },
     "execution_count": 20,
     "metadata": {},
     "output_type": "execute_result"
    }
   ],
   "source": [
    "Queue.pop(0)"
   ]
  },
  {
   "cell_type": "code",
   "execution_count": 21,
   "id": "f82b3ad9",
   "metadata": {},
   "outputs": [
    {
     "name": "stdout",
     "output_type": "stream",
     "text": [
      "['Value3', 'Value4']\n"
     ]
    }
   ],
   "source": [
    "print(Queue)"
   ]
  },
  {
   "cell_type": "markdown",
   "id": "473c5f45",
   "metadata": {},
   "source": [
    "# Linked List in Python"
   ]
  },
  {
   "cell_type": "code",
   "execution_count": 23,
   "id": "cc8cf952",
   "metadata": {},
   "outputs": [],
   "source": [
    "from collections import deque"
   ]
  },
  {
   "cell_type": "code",
   "execution_count": 24,
   "id": "801d02d1",
   "metadata": {},
   "outputs": [],
   "source": [
    "Linked_List = deque()"
   ]
  },
  {
   "cell_type": "code",
   "execution_count": 31,
   "id": "9a5f2cd0",
   "metadata": {},
   "outputs": [],
   "source": [
    "Linked_List.append(0)\n",
    "Linked_List.append(1)\n",
    "Linked_List.append(2)\n",
    "Linked_List.append(3)"
   ]
  },
  {
   "cell_type": "code",
   "execution_count": 32,
   "id": "bae666c6",
   "metadata": {},
   "outputs": [
    {
     "data": {
      "text/plain": [
       "deque([0, 0, 0, 0, 0, 1, 2, 3])"
      ]
     },
     "execution_count": 32,
     "metadata": {},
     "output_type": "execute_result"
    }
   ],
   "source": [
    "Linked_List"
   ]
  },
  {
   "cell_type": "code",
   "execution_count": 33,
   "id": "39f2ba1d",
   "metadata": {},
   "outputs": [
    {
     "data": {
      "text/plain": [
       "3"
      ]
     },
     "execution_count": 33,
     "metadata": {},
     "output_type": "execute_result"
    }
   ],
   "source": [
    "Linked_List.pop()"
   ]
  },
  {
   "cell_type": "code",
   "execution_count": 34,
   "id": "2b728dac",
   "metadata": {},
   "outputs": [
    {
     "data": {
      "text/plain": [
       "0"
      ]
     },
     "execution_count": 34,
     "metadata": {},
     "output_type": "execute_result"
    }
   ],
   "source": [
    "Linked_List.popleft()"
   ]
  },
  {
   "cell_type": "code",
   "execution_count": 35,
   "id": "2d5ecae3",
   "metadata": {},
   "outputs": [],
   "source": [
    "Linked_List.appendleft(2)"
   ]
  },
  {
   "cell_type": "code",
   "execution_count": 36,
   "id": "4a9cf1f7",
   "metadata": {},
   "outputs": [
    {
     "data": {
      "text/plain": [
       "deque([2, 0, 0, 0, 0, 1, 2])"
      ]
     },
     "execution_count": 36,
     "metadata": {},
     "output_type": "execute_result"
    }
   ],
   "source": [
    "Linked_List"
   ]
  },
  {
   "cell_type": "markdown",
   "id": "0d9d67ef",
   "metadata": {},
   "source": [
    "# Trees in Python"
   ]
  },
  {
   "cell_type": "code",
   "execution_count": 10,
   "id": "d83684f2",
   "metadata": {},
   "outputs": [],
   "source": [
    "class Node:\n",
    "    def __init__(self,data):\n",
    "        self.left = None\n",
    "        self.right = None\n",
    "        self.data = data\n",
    "    def PrintTree(self):\n",
    "        print(self.data)"
   ]
  },
  {
   "cell_type": "code",
   "execution_count": 11,
   "id": "3c9962a1",
   "metadata": {},
   "outputs": [],
   "source": [
    "Root = Node(1)\n",
    "Root2 = Node(2)"
   ]
  },
  {
   "cell_type": "code",
   "execution_count": 12,
   "id": "e25ddc59",
   "metadata": {},
   "outputs": [
    {
     "name": "stdout",
     "output_type": "stream",
     "text": [
      "1\n"
     ]
    }
   ],
   "source": [
    "Root.PrintTree()"
   ]
  },
  {
   "cell_type": "code",
   "execution_count": 13,
   "id": "f71f72e8",
   "metadata": {},
   "outputs": [
    {
     "name": "stdout",
     "output_type": "stream",
     "text": [
      "2\n"
     ]
    }
   ],
   "source": [
    "Root2.PrintTree()"
   ]
  },
  {
   "cell_type": "code",
   "execution_count": 15,
   "id": "456cafb3",
   "metadata": {},
   "outputs": [],
   "source": [
    "Root.left = Node(3)\n",
    "Root.right = Node(4)"
   ]
  },
  {
   "cell_type": "code",
   "execution_count": 16,
   "id": "2d5cf130",
   "metadata": {},
   "outputs": [],
   "source": [
    "Root.left.left = Node(4)\n",
    "Root.left.right = Node(5)"
   ]
  },
  {
   "cell_type": "code",
   "execution_count": 17,
   "id": "e2c78f63",
   "metadata": {},
   "outputs": [
    {
     "name": "stdout",
     "output_type": "stream",
     "text": [
      "5\n"
     ]
    }
   ],
   "source": [
    "Root.left.right.PrintTree()"
   ]
  },
  {
   "cell_type": "markdown",
   "id": "36396635",
   "metadata": {},
   "source": [
    "# Graps in Python"
   ]
  },
  {
   "cell_type": "code",
   "execution_count": 35,
   "id": "7637378b",
   "metadata": {},
   "outputs": [],
   "source": [
    "from collections import defaultdict\n",
    "  \n",
    "graph = defaultdict(list)\n",
    "def addEdge(graph,u,v):\n",
    "    graph[u].append(v)\n",
    "    \n",
    "addEdge(graph,'A','B')\n",
    "addEdge(graph,'A','B')"
   ]
  },
  {
   "cell_type": "code",
   "execution_count": 37,
   "id": "cadedc6a",
   "metadata": {},
   "outputs": [
    {
     "name": "stdout",
     "output_type": "stream",
     "text": [
      "defaultdict(<class 'list'>, {'A': ['B', 'B']})\n"
     ]
    }
   ],
   "source": [
    "print(graph)"
   ]
  },
  {
   "cell_type": "code",
   "execution_count": null,
   "id": "9b317d1c",
   "metadata": {},
   "outputs": [],
   "source": []
  }
 ],
 "metadata": {
  "kernelspec": {
   "display_name": "Python 3 (ipykernel)",
   "language": "python",
   "name": "python3"
  },
  "language_info": {
   "codemirror_mode": {
    "name": "ipython",
    "version": 3
   },
   "file_extension": ".py",
   "mimetype": "text/x-python",
   "name": "python",
   "nbconvert_exporter": "python",
   "pygments_lexer": "ipython3",
   "version": "3.9.7"
  }
 },
 "nbformat": 4,
 "nbformat_minor": 5
}
