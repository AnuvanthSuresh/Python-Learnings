{
 "cells": [
  {
   "cell_type": "markdown",
   "id": "944abf6d",
   "metadata": {},
   "source": [
    "# Conditional Statements"
   ]
  },
  {
   "cell_type": "markdown",
   "id": "e99d8aab",
   "metadata": {},
   "source": [
    "### IF statements"
   ]
  },
  {
   "cell_type": "code",
   "execution_count": 1,
   "id": "71b4c72f",
   "metadata": {},
   "outputs": [
    {
     "name": "stdout",
     "output_type": "stream",
     "text": [
      "False\n",
      "True\n",
      "True\n",
      "True\n",
      "False\n",
      "False\n"
     ]
    }
   ],
   "source": [
    "a = 2\n",
    "b = 3\n",
    "\n",
    "print(a == b)\n",
    "print(a != b)\n",
    "print(a < b)\n",
    "print(a <= b)\n",
    "print(a > b)\n",
    "print(a >= b)"
   ]
  },
  {
   "cell_type": "code",
   "execution_count": 2,
   "id": "ad94a304",
   "metadata": {},
   "outputs": [
    {
     "name": "stdout",
     "output_type": "stream",
     "text": [
      "B is greater than A\n"
     ]
    }
   ],
   "source": [
    "# If else\n",
    "\n",
    "if a > b:\n",
    "    print('A is greater than B')\n",
    "else:\n",
    "    print('B is greater than A')"
   ]
  },
  {
   "cell_type": "code",
   "execution_count": 4,
   "id": "8c23c414",
   "metadata": {},
   "outputs": [
    {
     "name": "stdout",
     "output_type": "stream",
     "text": [
      "B is greater\n"
     ]
    }
   ],
   "source": [
    "# elif\n",
    "\n",
    "a = 1\n",
    "b = 4\n",
    "c = 3\n",
    "\n",
    "if a > b and a > c:\n",
    "    print('A is greater')\n",
    "elif b > c:\n",
    "    print('B is greater')\n",
    "else:\n",
    "    print('C is greater')"
   ]
  },
  {
   "cell_type": "code",
   "execution_count": 8,
   "id": "61fb5fc0",
   "metadata": {},
   "outputs": [],
   "source": [
    "# Pass\n",
    "\n",
    "a = 1\n",
    "b = 0\n",
    "\n",
    "if b == 0:\n",
    "    pass\n",
    "else:\n",
    "    print(1/2)"
   ]
  },
  {
   "cell_type": "markdown",
   "id": "eacc96ca",
   "metadata": {},
   "source": [
    "# Loops"
   ]
  },
  {
   "cell_type": "markdown",
   "id": "27261f0f",
   "metadata": {},
   "source": [
    "### While Loop"
   ]
  },
  {
   "cell_type": "code",
   "execution_count": 14,
   "id": "16bf7667",
   "metadata": {},
   "outputs": [
    {
     "name": "stdout",
     "output_type": "stream",
     "text": [
      "1\n",
      "2\n",
      "3\n",
      "4\n",
      "5\n",
      "7\n",
      "8\n",
      "9\n",
      "10\n"
     ]
    }
   ],
   "source": [
    "i = 0\n",
    "while i < 10:\n",
    "    i+=1\n",
    "    if i != 6:\n",
    "        print(i)\n",
    "    else:\n",
    "        pass"
   ]
  },
  {
   "cell_type": "code",
   "execution_count": 15,
   "id": "f4957ef5",
   "metadata": {},
   "outputs": [
    {
     "name": "stdout",
     "output_type": "stream",
     "text": [
      "1\n",
      "2\n",
      "3\n",
      "4\n",
      "5\n"
     ]
    }
   ],
   "source": [
    "# Break\n",
    "i = 0\n",
    "while i < 10:\n",
    "    i+=1\n",
    "    if i != 6:\n",
    "        print(i)\n",
    "    else:\n",
    "        break"
   ]
  },
  {
   "cell_type": "code",
   "execution_count": 16,
   "id": "11841892",
   "metadata": {},
   "outputs": [
    {
     "name": "stdout",
     "output_type": "stream",
     "text": [
      "1\n",
      "2\n",
      "3\n",
      "4\n",
      "5\n",
      "6\n",
      "7\n",
      "8\n",
      "9\n",
      "10\n",
      "While condition satisfied\n"
     ]
    }
   ],
   "source": [
    "# Else in while\n",
    "\n",
    "i = 0\n",
    "while i < 10:\n",
    "    i+=1\n",
    "    print(i)\n",
    "else:\n",
    "    print('While condition satisfied')"
   ]
  },
  {
   "cell_type": "code",
   "execution_count": 17,
   "id": "e22ea179",
   "metadata": {},
   "outputs": [],
   "source": [
    "# No do while in python but to emulate the same run it as while true: and inside check for the condition and break if its not satisfied."
   ]
  },
  {
   "cell_type": "markdown",
   "id": "76a86f1e",
   "metadata": {},
   "source": [
    "### For loop"
   ]
  },
  {
   "cell_type": "code",
   "execution_count": null,
   "id": "457143ce",
   "metadata": {},
   "outputs": [],
   "source": [
    "samplespace = [\"One\",\"Two\",\"Three\",\"Four\"]\n",
    "print(samplespace)\n",
    "for Strings in samplespace:\n",
    "     print(Strings)"
   ]
  }
 ],
 "metadata": {
  "kernelspec": {
   "display_name": "Python 3 (ipykernel)",
   "language": "python",
   "name": "python3"
  },
  "language_info": {
   "codemirror_mode": {
    "name": "ipython",
    "version": 3
   },
   "file_extension": ".py",
   "mimetype": "text/x-python",
   "name": "python",
   "nbconvert_exporter": "python",
   "pygments_lexer": "ipython3",
   "version": "3.9.7"
  }
 },
 "nbformat": 4,
 "nbformat_minor": 5
}
