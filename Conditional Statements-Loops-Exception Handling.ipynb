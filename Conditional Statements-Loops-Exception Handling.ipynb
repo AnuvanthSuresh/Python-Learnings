{
 "cells": [
  {
   "cell_type": "markdown",
   "id": "d9c62010",
   "metadata": {},
   "source": [
    "# Conditional Statements"
   ]
  },
  {
   "cell_type": "markdown",
   "id": "f42189f6",
   "metadata": {},
   "source": [
    "### IF statements"
   ]
  },
  {
   "cell_type": "code",
   "execution_count": 1,
   "id": "de0951cd",
   "metadata": {},
   "outputs": [
    {
     "name": "stdout",
     "output_type": "stream",
     "text": [
      "False\n",
      "True\n",
      "True\n",
      "True\n",
      "False\n",
      "False\n"
     ]
    }
   ],
   "source": [
    "a = 2\n",
    "b = 3\n",
    "\n",
    "print(a == b)\n",
    "print(a != b)\n",
    "print(a < b)\n",
    "print(a <= b)\n",
    "print(a > b)\n",
    "print(a >= b)"
   ]
  },
  {
   "cell_type": "code",
   "execution_count": 2,
   "id": "ed068ef0",
   "metadata": {},
   "outputs": [
    {
     "name": "stdout",
     "output_type": "stream",
     "text": [
      "B is greater than A\n"
     ]
    }
   ],
   "source": [
    "# If else\n",
    "\n",
    "if a > b:\n",
    "    print('A is greater than B')\n",
    "else:\n",
    "    print('B is greater than A')"
   ]
  },
  {
   "cell_type": "code",
   "execution_count": 4,
   "id": "e39134ef",
   "metadata": {},
   "outputs": [
    {
     "name": "stdout",
     "output_type": "stream",
     "text": [
      "B is greater\n"
     ]
    }
   ],
   "source": [
    "# elif\n",
    "\n",
    "a = 1\n",
    "b = 4\n",
    "c = 3\n",
    "\n",
    "if a > b and a > c:\n",
    "    print('A is greater')\n",
    "elif b > c:\n",
    "    print('B is greater')\n",
    "else:\n",
    "    print('C is greater')"
   ]
  },
  {
   "cell_type": "code",
   "execution_count": 8,
   "id": "fcc09cc8",
   "metadata": {},
   "outputs": [],
   "source": [
    "# Pass\n",
    "\n",
    "a = 1\n",
    "b = 0\n",
    "\n",
    "if b == 0:\n",
    "    pass\n",
    "else:\n",
    "    print(1/2)"
   ]
  },
  {
   "cell_type": "markdown",
   "id": "fbc62297",
   "metadata": {},
   "source": [
    "# Loops"
   ]
  },
  {
   "cell_type": "markdown",
   "id": "dd0cb386",
   "metadata": {},
   "source": [
    "### While Loop"
   ]
  },
  {
   "cell_type": "code",
   "execution_count": 14,
   "id": "52c3b3d5",
   "metadata": {},
   "outputs": [
    {
     "name": "stdout",
     "output_type": "stream",
     "text": [
      "1\n",
      "2\n",
      "3\n",
      "4\n",
      "5\n",
      "7\n",
      "8\n",
      "9\n",
      "10\n"
     ]
    }
   ],
   "source": [
    "i = 0\n",
    "while i < 10:\n",
    "    i+=1\n",
    "    if i != 6:\n",
    "        print(i)\n",
    "    else:\n",
    "        pass"
   ]
  },
  {
   "cell_type": "code",
   "execution_count": 15,
   "id": "90746118",
   "metadata": {},
   "outputs": [
    {
     "name": "stdout",
     "output_type": "stream",
     "text": [
      "1\n",
      "2\n",
      "3\n",
      "4\n",
      "5\n"
     ]
    }
   ],
   "source": [
    "# Break\n",
    "i = 0\n",
    "while i < 10:\n",
    "    i+=1\n",
    "    if i != 6:\n",
    "        print(i)\n",
    "    else:\n",
    "        break"
   ]
  },
  {
   "cell_type": "code",
   "execution_count": 16,
   "id": "2199e22a",
   "metadata": {},
   "outputs": [
    {
     "name": "stdout",
     "output_type": "stream",
     "text": [
      "1\n",
      "2\n",
      "3\n",
      "4\n",
      "5\n",
      "6\n",
      "7\n",
      "8\n",
      "9\n",
      "10\n",
      "While condition satisfied\n"
     ]
    }
   ],
   "source": [
    "# Else in while\n",
    "\n",
    "i = 0\n",
    "while i < 10:\n",
    "    i+=1\n",
    "    print(i)\n",
    "else:\n",
    "    print('While condition satisfied')"
   ]
  },
  {
   "cell_type": "code",
   "execution_count": 17,
   "id": "cebedb58",
   "metadata": {},
   "outputs": [],
   "source": [
    "# No do while in python but to emulate the same run it as while true: and inside check for the condition and break if its not satisfied."
   ]
  },
  {
   "cell_type": "markdown",
   "id": "a0a2c361",
   "metadata": {},
   "source": [
    "### For loop"
   ]
  },
  {
   "cell_type": "code",
   "execution_count": 23,
   "id": "2f0480aa",
   "metadata": {},
   "outputs": [
    {
     "name": "stdout",
     "output_type": "stream",
     "text": [
      "One\n",
      "Two\n",
      "Three\n",
      "Four\n"
     ]
    }
   ],
   "source": [
    "samplespace = [\"One\",\"Two\",\"Three\",\"Four\"]\n",
    "\n",
    "for Strings in samplespace:\n",
    "     print(Strings)"
   ]
  },
  {
   "cell_type": "code",
   "execution_count": 28,
   "id": "2a1f855a",
   "metadata": {},
   "outputs": [
    {
     "name": "stdout",
     "output_type": "stream",
     "text": [
      "1\n",
      "2\n",
      "3\n",
      "4\n",
      "5\n",
      "6\n",
      "7\n",
      "8\n",
      "9\n"
     ]
    }
   ],
   "source": [
    "for i in range(1,10):\n",
    "    print(i)"
   ]
  },
  {
   "cell_type": "code",
   "execution_count": 29,
   "id": "b90be55e",
   "metadata": {},
   "outputs": [
    {
     "name": "stdout",
     "output_type": "stream",
     "text": [
      "T\n",
      "e\n",
      "m\n",
      "p\n",
      "o\n",
      "r\n",
      "a\n",
      "r\n",
      "y\n"
     ]
    }
   ],
   "source": [
    "for i in \"Temporary\":\n",
    "    print(i)"
   ]
  },
  {
   "cell_type": "markdown",
   "id": "95439304",
   "metadata": {},
   "source": [
    "### Iterators"
   ]
  },
  {
   "cell_type": "code",
   "execution_count": 32,
   "id": "498de198",
   "metadata": {},
   "outputs": [
    {
     "name": "stdout",
     "output_type": "stream",
     "text": [
      "A\n",
      "B\n",
      "C\n"
     ]
    }
   ],
   "source": [
    "sample = [\"A\",\"B\",\"C\",\"D\"]\n",
    "\n",
    "itr = iter(sample)\n",
    "\n",
    "print(next(itr))\n",
    "print(next(itr))\n",
    "print(next(itr))"
   ]
  },
  {
   "cell_type": "markdown",
   "id": "12c517d6",
   "metadata": {},
   "source": [
    "# Excpetion Handling"
   ]
  },
  {
   "cell_type": "code",
   "execution_count": 33,
   "id": "335f1763",
   "metadata": {},
   "outputs": [
    {
     "name": "stdout",
     "output_type": "stream",
     "text": [
      "Error occured\n"
     ]
    }
   ],
   "source": [
    "try:\n",
    "    print(x)\n",
    "except:\n",
    "    print('Error occured')"
   ]
  },
  {
   "cell_type": "code",
   "execution_count": 36,
   "id": "39dade3f",
   "metadata": {},
   "outputs": [
    {
     "name": "stdout",
     "output_type": "stream",
     "text": [
      "Zero Division Error\n"
     ]
    }
   ],
   "source": [
    "try:\n",
    "    print(1/0)\n",
    "except ZeroDivisionError:\n",
    "    print('Zero Division Error')"
   ]
  },
  {
   "cell_type": "code",
   "execution_count": 37,
   "id": "c6f78afd",
   "metadata": {},
   "outputs": [
    {
     "name": "stdout",
     "output_type": "stream",
     "text": [
      "0.5\n",
      "No Exception Occured\n"
     ]
    }
   ],
   "source": [
    "# else\n",
    "try:\n",
    "    print(1/2)\n",
    "except ZeroDivisionError:\n",
    "    print('Zero Division Error')\n",
    "else:\n",
    "    print('No Exception Occured')"
   ]
  },
  {
   "cell_type": "code",
   "execution_count": 41,
   "id": "fa395d9d",
   "metadata": {},
   "outputs": [
    {
     "name": "stdout",
     "output_type": "stream",
     "text": [
      "0.5\n",
      "No Exception Occured\n",
      "Finally\n",
      "-----------\n",
      "Zero Division Error\n",
      "Finally\n"
     ]
    }
   ],
   "source": [
    "# Finally\n",
    "\n",
    "# else\n",
    "try:\n",
    "    print(1/2)\n",
    "except ZeroDivisionError:\n",
    "    print('Zero Division Error')\n",
    "else:\n",
    "    print('No Exception Occured')\n",
    "finally:\n",
    "    print('Finally')\n",
    "   \n",
    "print('-----------')\n",
    "    \n",
    "try:\n",
    "    print(1/0)\n",
    "except ZeroDivisionError:\n",
    "    print('Zero Division Error')\n",
    "else:\n",
    "    print('No Exception Occured')\n",
    "finally:\n",
    "    print('Finally')\n"
   ]
  },
  {
   "cell_type": "code",
   "execution_count": 45,
   "id": "62bcef67",
   "metadata": {},
   "outputs": [
    {
     "ename": "Exception",
     "evalue": "Division by zero",
     "output_type": "error",
     "traceback": [
      "\u001b[1;31m---------------------------------------------------------------------------\u001b[0m",
      "\u001b[1;31mException\u001b[0m                                 Traceback (most recent call last)",
      "\u001b[1;32m~\\AppData\\Local\\Temp/ipykernel_16608/639075060.py\u001b[0m in \u001b[0;36m<module>\u001b[1;34m\u001b[0m\n\u001b[0;32m      5\u001b[0m \u001b[1;33m\u001b[0m\u001b[0m\n\u001b[0;32m      6\u001b[0m \u001b[1;32mif\u001b[0m \u001b[0mb\u001b[0m \u001b[1;33m==\u001b[0m \u001b[1;36m0\u001b[0m\u001b[1;33m:\u001b[0m\u001b[1;33m\u001b[0m\u001b[1;33m\u001b[0m\u001b[0m\n\u001b[1;32m----> 7\u001b[1;33m     \u001b[1;32mraise\u001b[0m \u001b[0mException\u001b[0m\u001b[1;33m(\u001b[0m\u001b[1;34m'Division by zero'\u001b[0m\u001b[1;33m)\u001b[0m\u001b[1;33m\u001b[0m\u001b[1;33m\u001b[0m\u001b[0m\n\u001b[0m\u001b[0;32m      8\u001b[0m \u001b[1;32melse\u001b[0m\u001b[1;33m:\u001b[0m\u001b[1;33m\u001b[0m\u001b[1;33m\u001b[0m\u001b[0m\n\u001b[0;32m      9\u001b[0m     \u001b[0mprint\u001b[0m\u001b[1;33m(\u001b[0m\u001b[0ma\u001b[0m\u001b[1;33m/\u001b[0m\u001b[0mb\u001b[0m\u001b[1;33m)\u001b[0m\u001b[1;33m\u001b[0m\u001b[1;33m\u001b[0m\u001b[0m\n",
      "\u001b[1;31mException\u001b[0m: Division by zero"
     ]
    }
   ],
   "source": [
    "# Throw custom Exception\n",
    "\n",
    "a = 1\n",
    "b = 0\n",
    "\n",
    "if b == 0:\n",
    "    raise Exception('Division by zero')\n",
    "else:\n",
    "    print(a/b)"
   ]
  },
  {
   "cell_type": "code",
   "execution_count": null,
   "id": "87bb5591",
   "metadata": {},
   "outputs": [],
   "source": []
  }
 ],
 "metadata": {
  "kernelspec": {
   "display_name": "Python 3 (ipykernel)",
   "language": "python",
   "name": "python3"
  },
  "language_info": {
   "codemirror_mode": {
    "name": "ipython",
    "version": 3
   },
   "file_extension": ".py",
   "mimetype": "text/x-python",
   "name": "python",
   "nbconvert_exporter": "python",
   "pygments_lexer": "ipython3",
   "version": "3.9.7"
  }
 },
 "nbformat": 4,
 "nbformat_minor": 5
}
